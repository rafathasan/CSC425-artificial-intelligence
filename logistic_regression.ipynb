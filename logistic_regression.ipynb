{
 "cells": [
  {
   "cell_type": "markdown",
   "metadata": {},
   "source": [
    "### Programming Assignment 2  : Rafat Hasan"
   ]
  },
  {
   "cell_type": "code",
   "execution_count": null,
   "metadata": {},
   "outputs": [],
   "source": [
    "import numpy as np\n",
    "import csv\n",
    "import matplotlib.pyplot as plt\n",
    "from IPython.display import clear_output, display"
   ]
  },
  {
   "cell_type": "markdown",
   "metadata": {},
   "source": [
    "### Loading Dataset :"
   ]
  },
  {
   "cell_type": "code",
   "execution_count": 61,
   "metadata": {},
   "outputs": [
    {
     "data": {
      "text/plain": [
       "array([[  1.  , 337.  , 118.  , ...,   9.65,   1.  ,   0.92],\n",
       "       [  2.  , 324.  , 107.  , ...,   8.87,   1.  ,   0.76],\n",
       "       [  3.  , 316.  , 104.  , ...,   8.  ,   1.  ,   0.72],\n",
       "       ...,\n",
       "       [498.  , 330.  , 120.  , ...,   9.56,   1.  ,   0.93],\n",
       "       [499.  , 312.  , 103.  , ...,   8.43,   0.  ,   0.73],\n",
       "       [500.  , 327.  , 113.  , ...,   9.04,   0.  ,   0.84]])"
      ]
     },
     "execution_count": 61,
     "metadata": {},
     "output_type": "execute_result"
    }
   ],
   "source": [
    "dataset = []\n",
    "headers = []\n",
    "with open('dataset.csv') as f:\n",
    "    reader = csv.reader(f, delimiter=',')\n",
    "    headers = next(reader)\n",
    "    dataset = list(reader)\n",
    "dataset = np.array(dataset).astype(float)\n",
    "dataset"
   ]
  },
  {
   "cell_type": "markdown",
   "metadata": {},
   "source": [
    "### Slicing and including the intercept:"
   ]
  },
  {
   "cell_type": "code",
   "execution_count": 62,
   "metadata": {},
   "outputs": [
    {
     "data": {
      "text/plain": [
       "array([[  1.  , 337.  , 118.  , ...,   4.5 ,   9.65,   1.  ],\n",
       "       [  1.  , 324.  , 107.  , ...,   4.5 ,   8.87,   1.  ],\n",
       "       [  1.  , 316.  , 104.  , ...,   3.5 ,   8.  ,   1.  ],\n",
       "       ...,\n",
       "       [  1.  , 330.  , 120.  , ...,   5.  ,   9.56,   1.  ],\n",
       "       [  1.  , 312.  , 103.  , ...,   5.  ,   8.43,   0.  ],\n",
       "       [  1.  , 327.  , 113.  , ...,   4.5 ,   9.04,   0.  ]])"
      ]
     },
     "execution_count": 62,
     "metadata": {},
     "output_type": "execute_result"
    }
   ],
   "source": [
    "X = np.hstack((np.ones((500,1)), dataset.copy()[:,1:-1]))\n",
    "X"
   ]
  },
  {
   "cell_type": "code",
   "execution_count": 63,
   "metadata": {},
   "outputs": [
    {
     "data": {
      "text/plain": [
       "array([[0.92],\n",
       "       [0.76],\n",
       "       [0.72],\n",
       "       [0.8 ],\n",
       "       [0.65],\n",
       "       [0.9 ],\n",
       "       [0.75],\n",
       "       [0.68],\n",
       "       [0.5 ],\n",
       "       [0.45]])"
      ]
     },
     "execution_count": 63,
     "metadata": {},
     "output_type": "execute_result"
    }
   ],
   "source": [
    "y = dataset.copy()[:,-1:]\n",
    "y[:10,:]"
   ]
  },
  {
   "cell_type": "code",
   "execution_count": 64,
   "metadata": {},
   "outputs": [
    {
     "data": {
      "text/plain": [
       "array([[1.],\n",
       "       [1.],\n",
       "       [1.],\n",
       "       [1.],\n",
       "       [1.],\n",
       "       [1.],\n",
       "       [1.],\n",
       "       [1.],\n",
       "       [0.],\n",
       "       [0.]])"
      ]
     },
     "execution_count": 64,
     "metadata": {},
     "output_type": "execute_result"
    }
   ],
   "source": [
    "for out in y:\n",
    "    if out > 0.6:\n",
    "        out[0] = 1\n",
    "    else: out[0] = 0\n",
    "y[:10,:]"
   ]
  },
  {
   "cell_type": "markdown",
   "metadata": {},
   "source": [
    "### Batch Gradient Decent"
   ]
  },
  {
   "cell_type": "code",
   "execution_count": 100,
   "metadata": {},
   "outputs": [],
   "source": [
    "params = np.zeros((X.shape[1],1)).astype(float)\n",
    "alpha = 0.0001\n",
    "epochs = 1000\n",
    "batch_result = []\n",
    "\n",
    "def hypothesis(sample):\n",
    "    global params\n",
    "    return 1/(1+np.exp(-np.dot(sample,params)))\n",
    "\n",
    "def cost():\n",
    "    global X,y\n",
    "    grad = 0\n",
    "    for sample,y_value in zip(X,y):\n",
    "        grad = (y_value*np.log(hypothesis(sample))) + ((1-y_value)*np.log(1-hypothesis(sample)))\n",
    "    return -grad/X.shape[0]\n",
    "\n",
    "def batch_gradient_decent():\n",
    "    global params,alpha,X,y,epochs, batch_result\n",
    "    updates = np.zeros((X.shape[1],1)).astype(float)\n",
    "    batch_result.append(cost())\n",
    "\n",
    "    for i in range(epochs):\n",
    "        for update,param,j in zip(updates, params, range(X.shape[1])):\n",
    "            for sample,y_value in zip(X,y):\n",
    "                update[0] = param - (alpha * (hypothesis(sample) - y_value) * sample[j])/X.shape[0]\n",
    "        params = updates.copy()\n",
    "        batch_result.append(cost())\n",
    "batch_gradient_decent()"
   ]
  },
  {
   "cell_type": "code",
   "execution_count": 101,
   "metadata": {},
   "outputs": [
    {
     "data": {
      "text/plain": [
       "0.806"
      ]
     },
     "execution_count": 101,
     "metadata": {},
     "output_type": "execute_result"
    }
   ],
   "source": [
    "sum([  1  for y_value,x in zip(y,[1 if hypothesis(sample) > 0.6 else 0 for sample in X]) if x == y_value ])/X.shape[0]"
   ]
  },
  {
   "cell_type": "code",
   "execution_count": 102,
   "metadata": {},
   "outputs": [
    {
     "data": {
      "image/png": "[encoded data removed]",
      "text/plain": [
       "<Figure size 432x288 with 1 Axes>"
      ]
     },
     "metadata": {
      "needs_background": "light"
     },
     "output_type": "display_data"
    }
   ],
   "source": [
    "plt.plot( np.linspace(0,1,len(batch_result)),batch_result)\n",
    "plt.ylabel(\"cost\")\n",
    "plt.xlabel(\"epoch\")\n",
    "plt.show()"
   ]
  },
  {
   "cell_type": "markdown",
   "metadata": {},
   "source": [
    "### Stochastic Gradient Decent"
   ]
  },
  {
   "cell_type": "code",
   "execution_count": 103,
   "metadata": {},
   "outputs": [],
   "source": [
    "params = np.zeros((X.shape[1],1)).astype(np.float64)\n",
    "alpha = 0.000001\n",
    "epochs = 1000\n",
    "stochastic_result = []\n",
    "def hypothesis(sample):\n",
    "    global params\n",
    "    return 1/(1+np.exp(-np.dot(sample,params)))\n",
    "\n",
    "def cost():\n",
    "    global X,y\n",
    "    grad = 0\n",
    "    for sample,y_value in zip(X,y):\n",
    "        grad = (y_value*np.log(hypothesis(sample))) + ((1-y_value)*np.log(1-hypothesis(sample)))\n",
    "    return -grad/X.shape[0]\n",
    "    return  val/X.shape[0]\n",
    "\n",
    "def stochastic_gradient_decent():\n",
    "    global params,alpha,X,y,epochs, stochastic_result\n",
    "    updates = np.zeros((X.shape[1],1)).astype(np.float64)\n",
    "    stochastic_result.append(cost())\n",
    "        \n",
    "    for i in range(epochs):\n",
    "        np.random.shuffle(X)\n",
    "        for sample,y_value in zip(X,y):\n",
    "            for update,param,j in zip(updates, params, range(X.shape[1])):\n",
    "                grad = (hypothesis(sample)- y_value)* sample[j]\n",
    "                update[0] = param - alpha * grad\n",
    "        params = updates.copy()\n",
    "        stochastic_result.append(cost())\n",
    "stochastic_gradient_decent()    "
   ]
  },
  {
   "cell_type": "code",
   "execution_count": 104,
   "metadata": {},
   "outputs": [
    {
     "data": {
      "text/plain": [
       "0.806"
      ]
     },
     "execution_count": 104,
     "metadata": {},
     "output_type": "execute_result"
    }
   ],
   "source": [
    "sum([  1  for y_value,x in zip(y,[1 if hypothesis(sample) > 0.6 else 0 for sample in X]) if x == y_value ])/X.shape[0]\n"
   ]
  },
  {
   "cell_type": "code",
   "execution_count": 105,
   "metadata": {},
   "outputs": [
    {
     "data": {
      "image/png": "[encoded data removed]",
      "text/plain": [
       "<Figure size 432x288 with 1 Axes>"
      ]
     },
     "metadata": {
      "needs_background": "light"
     },
     "output_type": "display_data"
    }
   ],
   "source": [
    "plt.plot(np.linspace(0,1,len(stochastic_result)), stochastic_result)\n",
    "plt.ylabel(\"cost\")\n",
    "plt.xlabel(\"epoch\")\n",
    "plt.show()"
   ]
  },
  {
   "cell_type": "markdown",
   "metadata": {},
   "source": [
    "### Mini Batch Gradient Decent"
   ]
  },
  {
   "cell_type": "code",
   "execution_count": 106,
   "metadata": {},
   "outputs": [],
   "source": [
    "X = np.hstack((np.ones((500,1)), dataset.copy()[:,1:-1]))\n",
    "params = np.zeros((X.shape[1],1)).astype(float)\n",
    "alpha = 0.000001\n",
    "epochs = 1000\n",
    "mini_batch_result = []\n",
    "def hypothesis(sample):\n",
    "    global params\n",
    "    return 1/(1+np.exp(-np.dot(sample,params)))\n",
    "\n",
    "def cost():\n",
    "    global X,y\n",
    "    grad = 0\n",
    "    for sample,y_value in zip(X,y):\n",
    "        grad = (y_value*np.log(hypothesis(sample))) + ((1-y_value)*np.log(1-hypothesis(sample)))\n",
    "    return -grad/X.shape[0]\n",
    "\n",
    "def mini_batch_gradient_decent():\n",
    "    global params,alpha,X,y,epochs, stochastic_result\n",
    "    updates = np.zeros((X.shape[1],1)).astype(float)\n",
    "    mini_batch_result.append(cost())\n",
    "    batch = 100\n",
    "    \n",
    "    for i in range(epochs):\n",
    "        np.random.shuffle(X)\n",
    "        for i in range(0,X.shape[0],batch):\n",
    "            for update,param,j in zip(updates, params, range(X.shape[1])):\n",
    "                grad = 0\n",
    "                for k in range(i,i+batch):\n",
    "                    grad = alpha * (hypothesis(X[k]) - y[k]) * X[k][j]\n",
    "                    update[0] = param - grad\n",
    "        params = updates.copy()\n",
    "        mini_batch_result.append(cost())\n",
    "mini_batch_gradient_decent()    "
   ]
  },
  {
   "cell_type": "code",
   "execution_count": 107,
   "metadata": {},
   "outputs": [
    {
     "data": {
      "text/plain": [
       "0.806"
      ]
     },
     "execution_count": 107,
     "metadata": {},
     "output_type": "execute_result"
    }
   ],
   "source": [
    "sum([  1  for y_value,x in zip(y,[1 if hypothesis(sample) > 0.6 else 0 for sample in X]) if x == y_value ])/X.shape[0]\n"
   ]
  },
  {
   "cell_type": "code",
   "execution_count": 108,
   "metadata": {},
   "outputs": [
    {
     "data": {
      "image/png": "[encoded data removed]",
      "text/plain": [
       "<Figure size 432x288 with 1 Axes>"
      ]
     },
     "metadata": {
      "needs_background": "light"
     },
     "output_type": "display_data"
    }
   ],
   "source": [
    "plt.plot(np.linspace(0,1,len(mini_batch_result)), mini_batch_result)\n",
    "plt.ylabel(\"cost\")\n",
    "plt.xlabel(\"epoch\")\n",
    "plt.show()"
   ]
  },
  {
   "cell_type": "markdown",
   "metadata": {},
   "source": [
    "### BSG vs SGD vs MBGD Plot"
   ]
  },
  {
   "cell_type": "code",
   "execution_count": 109,
   "metadata": {},
   "outputs": [
    {
     "data": {
      "image/png": "[encoded data removed]",
      "text/plain": [
       "<Figure size 432x288 with 1 Axes>"
      ]
     },
     "metadata": {
      "needs_background": "light"
     },
     "output_type": "display_data"
    }
   ],
   "source": [
    "plt.plot([x for x  in range(len(batch_result))],batch_result,\n",
    "         [x for x  in range(len(stochastic_result))], stochastic_result,\n",
    "         [x for x  in range(len(mini_batch_result))], mini_batch_result)\n",
    "plt.legend([\"BGD\",\"SGD\",\"MBGD\"])\n",
    "plt.ylabel(\"cost\")\n",
    "plt.xlabel(\"epoch\")\n",
    "plt.show()"
   ]
  },
  {
   "cell_type": "code",
   "execution_count": null,
   "metadata": {},
   "outputs": [],
   "source": []
  },
  {
   "cell_type": "code",
   "execution_count": null,
   "metadata": {},
   "outputs": [],
   "source": []
  }
 ],
 "metadata": {
  "kernelspec": {
   "display_name": "Python 3",
   "language": "python",
   "name": "python3"
  },
  "language_info": {
   "codemirror_mode": {
    "name": "ipython",
    "version": 3
   },
   "file_extension": ".py",
   "mimetype": "text/x-python",
   "name": "python",
   "nbconvert_exporter": "python",
   "pygments_lexer": "ipython3",
   "version": "3.8.5"
  }
 },
 "nbformat": 4,
 "nbformat_minor": 4
}
